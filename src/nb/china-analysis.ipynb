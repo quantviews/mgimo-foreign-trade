{
 "cells": [
  {
   "cell_type": "markdown",
   "id": "9e8f7d19",
   "metadata": {},
   "source": [
    "# Проверка данных таможенной статистики КНР\n"
   ]
  },
  {
   "cell_type": "code",
   "execution_count": null,
   "id": "d3a27828",
   "metadata": {},
   "outputs": [],
   "source": [
    "import pandas as pd"
   ]
  },
  {
   "cell_type": "code",
   "execution_count": null,
   "id": "8b9d9b18",
   "metadata": {},
   "outputs": [],
   "source": [
    "file_path = \"data_processed//ch_full.parquet\""
   ]
  },
  {
   "cell_type": "code",
   "execution_count": null,
   "id": "4333fa1f",
   "metadata": {},
   "outputs": [],
   "source": [
    "df = pd.read_parquet(file_path)\n"
   ]
  }
 ],
 "metadata": {
  "language_info": {
   "name": "python"
  }
 },
 "nbformat": 4,
 "nbformat_minor": 5
}
